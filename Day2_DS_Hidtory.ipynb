{
 "cells": [
  {
   "cell_type": "code",
   "execution_count": 7,
   "id": "1da21169-02a0-4ccf-bfce-1a305e946601",
   "metadata": {},
   "outputs": [
    {
     "name": "stdout",
     "output_type": "stream",
     "text": [
      "1. 1960s - Birth of Data Analysis\n",
      "2. 1974 - Introduction of the Term 'Data Science\n",
      "3. 1990s - Big Data & Data Warehousing\n",
      "4. 2001 - Data Science defined as a Profession\n",
      "5. 2010s - AI & Machine Learning boom\n"
     ]
    }
   ],
   "source": [
    "#Data Science Milestones\n",
    "\n",
    "Milestones = (\"1. 1960s - Birth of Data Analysis\\n\"\n",
    "\"2. 1974 - Introduction of the Term 'Data Science\\n\"\n",
    "\"3. 1990s - Big Data & Data Warehousing\\n\"\n",
    "\"4. 2001 - Data Science defined as a Profession\\n\"\n",
    "\"5. 2010s - AI & Machine Learning boom\") \n",
    "\n",
    "print(Milestones)"
   ]
  },
  {
   "cell_type": "code",
   "execution_count": 11,
   "id": "ce54816f-9849-4c85-9038-daf9f9302b57",
   "metadata": {},
   "outputs": [
    {
     "name": "stdout",
     "output_type": "stream",
     "text": [
      "Data Science has transformed industries by enabling organizations to harness vast amounts \n",
      "of data for decision-making and innovation. In healthcare, it improved diagnostics and \n",
      "personalized treatments. In finance, predictive models reduced fraud and optimized investments. \n",
      "Retailers used recommendation systems to boost sales, while manufacturing leveraged predictive \n",
      "maintenance to reduce downtime. Across all sectors, data science has shifted strategies \n",
      "from intuition-based to data-driven, enhancing efficiency, profitability, and customer satisfaction\n"
     ]
    }
   ],
   "source": [
    "#how Data Sience changed industries\n",
    "\n",
    "paragraph = \"\"\"Data Science has transformed industries by enabling organizations to harness vast amounts \n",
    "of data for decision-making and innovation. In healthcare, it improved diagnostics and \n",
    "personalized treatments. In finance, predictive models reduced fraud and optimized investments. \n",
    "Retailers used recommendation systems to boost sales, while manufacturing leveraged predictive \n",
    "maintenance to reduce downtime. Across all sectors, data science has shifted strategies \n",
    "from intuition-based to data-driven, enhancing efficiency, profitability, and customer satisfaction\"\"\"\n",
    "print(paragraph)"
   ]
  },
  {
   "cell_type": "code",
   "execution_count": null,
   "id": "d6376f8c-a4e1-4493-8095-5e312a3a315a",
   "metadata": {},
   "outputs": [],
   "source": []
  }
 ],
 "metadata": {
  "kernelspec": {
   "display_name": "Python [conda env:base] *",
   "language": "python",
   "name": "conda-base-py"
  },
  "language_info": {
   "codemirror_mode": {
    "name": "ipython",
    "version": 3
   },
   "file_extension": ".py",
   "mimetype": "text/x-python",
   "name": "python",
   "nbconvert_exporter": "python",
   "pygments_lexer": "ipython3",
   "version": "3.13.5"
  }
 },
 "nbformat": 4,
 "nbformat_minor": 5
}
