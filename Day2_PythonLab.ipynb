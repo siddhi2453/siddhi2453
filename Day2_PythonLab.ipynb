{
 "cells": [
  {
   "cell_type": "markdown",
   "id": "f8c5baac-6594-432b-9477-0bdbf4c5dd12",
   "metadata": {},
   "source": [
    "## Input/Output and Variables on Python."
   ]
  },
  {
   "cell_type": "code",
   "execution_count": 5,
   "id": "fa8bc3eb-84e7-4709-bd6f-8aecaa40405c",
   "metadata": {},
   "outputs": [
    {
     "name": "stdin",
     "output_type": "stream",
     "text": [
      "Enter your name: siddhi\n"
     ]
    },
    {
     "name": "stdout",
     "output_type": "stream",
     "text": [
      "Welcome! siddhi !!!\n"
     ]
    }
   ],
   "source": [
    "#Task 1. User Input\n",
    "name = input(\"Enter your name:\")\n",
    "print(\"Welcome!\", name , \"!!!\")"
   ]
  },
  {
   "cell_type": "code",
   "execution_count": 8,
   "id": "c1ab4750-241b-4ffe-910f-8f7105f96b5a",
   "metadata": {},
   "outputs": [
    {
     "name": "stdin",
     "output_type": "stream",
     "text": [
      "enter the radius: 10\n"
     ]
    },
    {
     "name": "stdout",
     "output_type": "stream",
     "text": [
      "314.0\n"
     ]
    }
   ],
   "source": [
    "#Task 2. Area Calculator\n",
    "radius = float(input(\"enter the radius:\"))\n",
    "area = 3.14*radius**2\n",
    "print(area)\n"
   ]
  },
  {
   "cell_type": "code",
   "execution_count": 10,
   "id": "4fbab3e6-62f2-4b01-8cb1-4149ed1107d8",
   "metadata": {},
   "outputs": [
    {
     "name": "stdout",
     "output_type": "stream",
     "text": [
      "Dot Product is: 20\n"
     ]
    }
   ],
   "source": [
    "#Vector Creation Using Numpy\n",
    "\n",
    "import numpy as np\n",
    "A = np.array([1,2,3])\n",
    "B = np.array([2,3,4])\n",
    "print(\"Dot Product is:\", np.dot(A,B))"
   ]
  },
  {
   "cell_type": "code",
   "execution_count": null,
   "id": "45796eda-ee74-4bd0-9e57-7f59aeef11c0",
   "metadata": {},
   "outputs": [],
   "source": []
  }
 ],
 "metadata": {
  "kernelspec": {
   "display_name": "Python [conda env:base] *",
   "language": "python",
   "name": "conda-base-py"
  },
  "language_info": {
   "codemirror_mode": {
    "name": "ipython",
    "version": 3
   },
   "file_extension": ".py",
   "mimetype": "text/x-python",
   "name": "python",
   "nbconvert_exporter": "python",
   "pygments_lexer": "ipython3",
   "version": "3.13.5"
  }
 },
 "nbformat": 4,
 "nbformat_minor": 5
}
