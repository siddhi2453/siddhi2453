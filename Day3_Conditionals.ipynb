{
 "cells": [
  {
   "cell_type": "markdown",
   "id": "8bcef71f-e2f7-40a9-8e8a-7fdedd0245b8",
   "metadata": {},
   "source": [
    "# Conditional Statements"
   ]
  },
  {
   "cell_type": "code",
   "execution_count": 1,
   "id": "481732b6-5d3e-475c-b455-0d0b29df355b",
   "metadata": {},
   "outputs": [
    {
     "name": "stdin",
     "output_type": "stream",
     "text": [
      "Enter your marks (0-100):  70\n"
     ]
    },
    {
     "name": "stdout",
     "output_type": "stream",
     "text": [
      "Grade: B\n"
     ]
    }
   ],
   "source": [
    "#Ex1 . Grade calculator\n",
    "marks = float(input(\"Enter your marks (0-100): \"))\n",
    "if marks > 100 or marks < 0:\n",
    "    print(\"Invalid marks! Please enter a value between 0 and 100.\")\n",
    "elif marks >= 90:\n",
    "    print(\"Grade: A+\")\n",
    "elif marks >= 80:\n",
    "    print(\"Grade: A\")\n",
    "elif marks >= 70:\n",
    "    print(\"Grade: B\")\n",
    "elif marks >= 60:\n",
    "    print(\"Grade: C\")\n",
    "elif marks >= 50:\n",
    "    print(\"Grade: D\")\n",
    "else:\n",
    "    print(\"Grade: F (Fail)\")"
   ]
  },
  {
   "cell_type": "code",
   "execution_count": 2,
   "id": "92558c8d-3352-4d32-9396-6707c82b035e",
   "metadata": {},
   "outputs": [
    {
     "name": "stdin",
     "output_type": "stream",
     "text": [
      "Enter a number:  -24\n"
     ]
    },
    {
     "name": "stdout",
     "output_type": "stream",
     "text": [
      "The number is Negative.\n"
     ]
    }
   ],
   "source": [
    "#to check whether number is positive, Negative or zero\n",
    "num = float(input(\"Enter a number: \"))\n",
    "if num > 0:\n",
    "    print(\"The number is Positive.\")\n",
    "elif num < 0:\n",
    "    print(\"The number is Negative.\")\n",
    "else:\n",
    "    print(\"The number is Zero.\")"
   ]
  },
  {
   "cell_type": "code",
   "execution_count": 4,
   "id": "580b8ade-2663-4a67-991a-69b2133a7a07",
   "metadata": {},
   "outputs": [
    {
     "name": "stdin",
     "output_type": "stream",
     "text": [
      "Enter a year:  2003\n"
     ]
    },
    {
     "name": "stdout",
     "output_type": "stream",
     "text": [
      "2003 is NOT a Leap Year.\n"
     ]
    }
   ],
   "source": [
    "#Leap Year\n",
    "year = int(input(\"Enter a year: \"))\n",
    "if (year % 400 == 0) or (year % 4 == 0 and year % 100 != 0):\n",
    "    print(year, \"is a Leap Year.\")\n",
    "else:\n",
    "    print(year, \"is NOT a Leap Year.\")"
   ]
  },
  {
   "cell_type": "code",
   "execution_count": null,
   "id": "2b64a52d-8037-492c-8a78-c9c63565b5ef",
   "metadata": {},
   "outputs": [],
   "source": []
  }
 ],
 "metadata": {
  "kernelspec": {
   "display_name": "Python [conda env:base] *",
   "language": "python",
   "name": "conda-base-py"
  },
  "language_info": {
   "codemirror_mode": {
    "name": "ipython",
    "version": 3
   },
   "file_extension": ".py",
   "mimetype": "text/x-python",
   "name": "python",
   "nbconvert_exporter": "python",
   "pygments_lexer": "ipython3",
   "version": "3.13.5"
  }
 },
 "nbformat": 4,
 "nbformat_minor": 5
}
