{
 "cells": [
  {
   "cell_type": "markdown",
   "id": "1ebffcfd-858e-4487-97cd-d8a45e24decc",
   "metadata": {},
   "source": [
    "# Ex 1. First 10 Natural Numbers"
   ]
  },
  {
   "cell_type": "code",
   "execution_count": 1,
   "id": "166cb1d1-0db2-49c4-99f8-866a07f79739",
   "metadata": {},
   "outputs": [
    {
     "name": "stdout",
     "output_type": "stream",
     "text": [
      "The first 10 Natural numbers are: 1\n",
      "The first 10 Natural numbers are: 2\n",
      "The first 10 Natural numbers are: 3\n",
      "The first 10 Natural numbers are: 4\n",
      "The first 10 Natural numbers are: 5\n",
      "The first 10 Natural numbers are: 6\n",
      "The first 10 Natural numbers are: 7\n",
      "The first 10 Natural numbers are: 8\n",
      "The first 10 Natural numbers are: 9\n",
      "The first 10 Natural numbers are: 10\n"
     ]
    }
   ],
   "source": [
    "#Using for loop\n",
    "\n",
    "for i in range (1,11):\n",
    "    print(\"The first 10 Natural numbers are:\" , i)"
   ]
  },
  {
   "cell_type": "code",
   "execution_count": 3,
   "id": "04a5f1da-2fa2-4a0f-980f-eb4eb1eddbda",
   "metadata": {},
   "outputs": [
    {
     "name": "stdout",
     "output_type": "stream",
     "text": [
      "1\n",
      "2\n",
      "3\n",
      "4\n",
      "5\n",
      "6\n",
      "7\n",
      "8\n",
      "9\n",
      "10\n"
     ]
    }
   ],
   "source": [
    "#using while loop\n",
    "num = 1\n",
    "while num<=10:\n",
    "    print (num)\n",
    "    num+=1"
   ]
  },
  {
   "cell_type": "markdown",
   "id": "6ba5273b-e6c5-4816-a0ee-0069798b0a27",
   "metadata": {},
   "source": [
    "# Ex2 : Even numbers from 1 to 50"
   ]
  },
  {
   "cell_type": "code",
   "execution_count": 4,
   "id": "de25b229-ec14-4e28-ad02-3f13464b5517",
   "metadata": {},
   "outputs": [
    {
     "name": "stdout",
     "output_type": "stream",
     "text": [
      "Even numbers from 1 to 50 are: 2\n",
      "Even numbers from 1 to 50 are: 4\n",
      "Even numbers from 1 to 50 are: 6\n",
      "Even numbers from 1 to 50 are: 8\n",
      "Even numbers from 1 to 50 are: 10\n",
      "Even numbers from 1 to 50 are: 12\n",
      "Even numbers from 1 to 50 are: 14\n",
      "Even numbers from 1 to 50 are: 16\n",
      "Even numbers from 1 to 50 are: 18\n",
      "Even numbers from 1 to 50 are: 20\n",
      "Even numbers from 1 to 50 are: 22\n",
      "Even numbers from 1 to 50 are: 24\n",
      "Even numbers from 1 to 50 are: 26\n",
      "Even numbers from 1 to 50 are: 28\n",
      "Even numbers from 1 to 50 are: 30\n",
      "Even numbers from 1 to 50 are: 32\n",
      "Even numbers from 1 to 50 are: 34\n",
      "Even numbers from 1 to 50 are: 36\n",
      "Even numbers from 1 to 50 are: 38\n",
      "Even numbers from 1 to 50 are: 40\n",
      "Even numbers from 1 to 50 are: 42\n",
      "Even numbers from 1 to 50 are: 44\n",
      "Even numbers from 1 to 50 are: 46\n",
      "Even numbers from 1 to 50 are: 48\n",
      "Even numbers from 1 to 50 are: 50\n"
     ]
    }
   ],
   "source": [
    "# using for loop\n",
    "for i in range (2 , 51, 2):\n",
    "    print (\"Even numbers from 1 to 50 are:\" , i)"
   ]
  },
  {
   "cell_type": "code",
   "execution_count": 5,
   "id": "2de685cd-8fc9-4702-ae28-27d9a5b88d63",
   "metadata": {},
   "outputs": [
    {
     "name": "stdout",
     "output_type": "stream",
     "text": [
      "2\n",
      "4\n",
      "6\n",
      "8\n",
      "10\n",
      "12\n",
      "14\n",
      "16\n",
      "18\n",
      "20\n",
      "22\n",
      "24\n",
      "26\n",
      "28\n",
      "30\n",
      "32\n",
      "34\n",
      "36\n",
      "38\n",
      "40\n",
      "42\n",
      "44\n",
      "46\n",
      "48\n",
      "50\n"
     ]
    }
   ],
   "source": [
    "#using while loop\n",
    "num=2\n",
    "while num<=50:\n",
    "    print(num)\n",
    "    num+=2"
   ]
  },
  {
   "cell_type": "markdown",
   "id": "17ccf6c3-24b4-41b5-90a4-9b006d8e4869",
   "metadata": {},
   "source": [
    "# Ex 3: Calculate Factorial"
   ]
  },
  {
   "cell_type": "code",
   "execution_count": 11,
   "id": "0dff9681-f063-4a35-b181-b07dca92ad1f",
   "metadata": {},
   "outputs": [
    {
     "name": "stdin",
     "output_type": "stream",
     "text": [
      "Enter a Number: 6\n"
     ]
    },
    {
     "name": "stdout",
     "output_type": "stream",
     "text": [
      "Factorial of  6 is 720\n"
     ]
    }
   ],
   "source": [
    "#using for loop\n",
    "num = int(input(\"Enter a Number:\"))\n",
    "factorial = 1\n",
    "for i in range(1 , num+1):\n",
    "    factorial *=i\n",
    "print(\"Factorial of \", num , \"is\" , factorial)#correct indentation is very improtant ad i got an output but it was wrong"
   ]
  },
  {
   "cell_type": "code",
   "execution_count": 12,
   "id": "80c28969-18e8-4424-90c4-1ce952a7a171",
   "metadata": {},
   "outputs": [
    {
     "name": "stdin",
     "output_type": "stream",
     "text": [
      "Enter a number: 5\n"
     ]
    },
    {
     "name": "stdout",
     "output_type": "stream",
     "text": [
      "The factorial of 5 is 120\n"
     ]
    }
   ],
   "source": [
    "#Using while loop\n",
    "num = int(input(\"Enter a number:\"))\n",
    "factorial = 1\n",
    "i = 1\n",
    "while i<= num:\n",
    "    factorial *=i\n",
    "    i +=1\n",
    "print(\"The factorial of\" , num , \"is\" , factorial)"
   ]
  },
  {
   "cell_type": "code",
   "execution_count": null,
   "id": "fc69cb5d-dc9f-48b1-89ee-bcafcfc240c1",
   "metadata": {},
   "outputs": [],
   "source": []
  }
 ],
 "metadata": {
  "kernelspec": {
   "display_name": "Python [conda env:base] *",
   "language": "python",
   "name": "conda-base-py"
  },
  "language_info": {
   "codemirror_mode": {
    "name": "ipython",
    "version": 3
   },
   "file_extension": ".py",
   "mimetype": "text/x-python",
   "name": "python",
   "nbconvert_exporter": "python",
   "pygments_lexer": "ipython3",
   "version": "3.13.5"
  }
 },
 "nbformat": 4,
 "nbformat_minor": 5
}
