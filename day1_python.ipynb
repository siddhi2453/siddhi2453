{
 "cells": [
  {
   "cell_type": "code",
   "execution_count": 5,
   "id": "2712b220-1cdc-4513-a9e1-69bba29fce2f",
   "metadata": {},
   "outputs": [
    {
     "name": "stdout",
     "output_type": "stream",
     "text": [
      "Hii! My Name is Siddhi I am  22 years old .My fav language is Python I am a student of Data science\n"
     ]
    }
   ],
   "source": [
    "name = \"Siddhi\"\n",
    "Age = 22\n",
    "Favlanguage = \"Python\"\n",
    "Subject = \"Data science\"\n",
    "print(\"Hii! My Name is\" , name , \"I am \" , Age , \"years old .My fav language is\" , Favlanguage , \"I am a student of\" , Subject)"
   ]
  },
  {
   "cell_type": "code",
   "execution_count": null,
   "id": "bd2caa2e-663e-461e-8397-906a73bfa2c1",
   "metadata": {},
   "outputs": [],
   "source": []
  }
 ],
 "metadata": {
  "kernelspec": {
   "display_name": "Python [conda env:base] *",
   "language": "python",
   "name": "conda-base-py"
  },
  "language_info": {
   "codemirror_mode": {
    "name": "ipython",
    "version": 3
   },
   "file_extension": ".py",
   "mimetype": "text/x-python",
   "name": "python",
   "nbconvert_exporter": "python",
   "pygments_lexer": "ipython3",
   "version": "3.13.5"
  }
 },
 "nbformat": 4,
 "nbformat_minor": 5
}
