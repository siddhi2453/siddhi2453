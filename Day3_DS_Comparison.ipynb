{
 "cells": [
  {
   "cell_type": "markdown",
   "id": "879056f7-a6d4-4dbc-87af-76b190ecbf8e",
   "metadata": {},
   "source": [
    "#Comparison Markdown Table"
   ]
  },
  {
   "cell_type": "markdown",
   "id": "c0480b14-6585-4138-8d24-683d298aa024",
   "metadata": {},
   "source": [
    "\n",
    "\n",
    "| Dimension  | Data Science | Data Analysis | Machine Learning |\n",
    "|------------|--------------|---------------|------------------|\n",
    "| *Goals*  | Extract insights and build predictive models using data. | Examine datasets to find patterns, trends, and useful information. | Enable systems to learn from data and make predictions or decisions without explicit programming. |\n",
    "| *Tools*  | Python, R, SQL, TensorFlow, Spark, Hadoop. | Excel, SQL, Python (Pandas), Tableau, Power BI. | Python (scikit-learn, TensorFlow, PyTorch), R, ML libraries. |\n",
    "| *Outputs*| Predictive models, dashboards, data products, business insights. | Reports, summaries, charts, KPIs. | Trained models, predictions, automated decision systems. |\n",
    "| *Scope*  | Broad—includes data collection, cleaning, analysis, visualization, and AI model building. | Narrower—focuses mainly on analyzing historical data. | Focused on model training, pattern recognition, and automation. |\n",
    "| *Example*| Predicting customer churn for a telecom company. | Analyzing sales data to find seasonal trends. | Recommending products on e-commerce platforms. |\n"
   ]
  }
 ],
 "metadata": {
  "kernelspec": {
   "display_name": "Python [conda env:base] *",
   "language": "python",
   "name": "conda-base-py"
  },
  "language_info": {
   "codemirror_mode": {
    "name": "ipython",
    "version": 3
   },
   "file_extension": ".py",
   "mimetype": "text/x-python",
   "name": "python",
   "nbconvert_exporter": "python",
   "pygments_lexer": "ipython3",
   "version": "3.13.5"
  }
 },
 "nbformat": 4,
 "nbformat_minor": 5
}
