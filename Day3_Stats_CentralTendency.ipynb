{
 "cells": [
  {
   "cell_type": "markdown",
   "id": "b1b04230-fc3a-47e7-bae2-d466ecce6ac3",
   "metadata": {},
   "source": [
    "#Day3 Satistics - Measures of Central Tendency"
   ]
  },
  {
   "cell_type": "code",
   "execution_count": 7,
   "id": "bdcb2906-56be-4d52-a1d4-527c1c0bfb8b",
   "metadata": {},
   "outputs": [
    {
     "name": "stdout",
     "output_type": "stream",
     "text": [
      "Mean is: 74.85714285714286\n",
      "Median is: 75.0\n",
      "Mode is: 75\n"
     ]
    }
   ],
   "source": [
    "import numpy as np\n",
    "from scipy import stats\n",
    "\n",
    "StudentMarks = [88, 75, 63, 75, 60, 75, 88]\n",
    "print(\"Mean is:\" , np.mean(StudentMarks))\n",
    "print(\"Median is:\" , np.median(StudentMarks))\n",
    "print(\"Mode is:\" , stats.mode(StudentMarks).mode)"
   ]
  },
  {
   "cell_type": "code",
   "execution_count": null,
   "id": "040c0ebd-afa7-48cc-9ce3-0247bd0f245c",
   "metadata": {},
   "outputs": [],
   "source": []
  }
 ],
 "metadata": {
  "kernelspec": {
   "display_name": "Python [conda env:base] *",
   "language": "python",
   "name": "conda-base-py"
  },
  "language_info": {
   "codemirror_mode": {
    "name": "ipython",
    "version": 3
   },
   "file_extension": ".py",
   "mimetype": "text/x-python",
   "name": "python",
   "nbconvert_exporter": "python",
   "pygments_lexer": "ipython3",
   "version": "3.13.5"
  }
 },
 "nbformat": 4,
 "nbformat_minor": 5
}
